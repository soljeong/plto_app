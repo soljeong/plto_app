{
 "cells": [
  {
   "cell_type": "code",
   "execution_count": null,
   "metadata": {},
   "outputs": [],
   "source": [
    "from api_client import APIClient\n",
    "\n",
    "# 환경 변수에서 API 키, 이메일, 비밀번호 가져오기\n",
    "API_KEY =\n",
    "EMAIL =\n",
    "PASSWORD =\n",
    "\n",
    "# APIClient 인스턴스 생성\n",
    "api_client = APIClient( client_api_key=API_KEY, client_id=EMAIL, client_secret=PASSWORD)"
   ]
  },
  {
   "cell_type": "code",
   "execution_count": null,
   "metadata": {},
   "outputs": [],
   "source": [
    "data = api_client.get_data(\"orders\", \"91269199210\")\n",
    "data\n"
   ]
  }
 ],
 "metadata": {
  "kernelspec": {
   "display_name": "Python 3",
   "language": "python",
   "name": "python3"
  },
  "language_info": {
   "codemirror_mode": {
    "name": "ipython",
    "version": 3
   },
   "file_extension": ".py",
   "mimetype": "text/x-python",
   "name": "python",
   "nbconvert_exporter": "python",
   "pygments_lexer": "ipython3",
   "version": "3.11.11"
  }
 },
 "nbformat": 4,
 "nbformat_minor": 2
}
